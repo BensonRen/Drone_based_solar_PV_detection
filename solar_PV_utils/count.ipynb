{
 "cells": [
  {
   "cell_type": "markdown",
   "metadata": {},
   "source": [
    "# Counting the number of imgs and solar panels"
   ]
  },
  {
   "cell_type": "code",
   "execution_count": 1,
   "metadata": {},
   "outputs": [],
   "source": [
    "import numpy as np\n",
    "import os\n",
    "import pandas as pd\n",
    "from skimage import io\n"
   ]
  },
  {
   "cell_type": "code",
   "execution_count": 14,
   "metadata": {},
   "outputs": [
    {
     "name": "stdout",
     "output_type": "stream",
     "text": [
      "{11: 105, 7: 62, 5: 68, 9: 74, 10: 67, 12: 65, 8: 81, 6: 93}\n",
      "615\n"
     ]
    }
   ],
   "source": [
    "part1 = '/scratch/sr365/Packaging_catalyst_raw_data/data_raw/part1'\n",
    "part2 = '/scratch/sr365/Packaging_catalyst_raw_data/data_raw/part2'\n",
    "\n",
    "def get_height(filename):\n",
    "    \"\"\"\n",
    "    From the file name get the height\n",
    "    \"\"\"\n",
    "    name = filename.split('.')[0].split('m')[0].split('_')[-1]\n",
    "    height = float(name)/10\n",
    "    height = int(round(height))\n",
    "    return height\n",
    "\n",
    "\n",
    "def calculate_resolution(height):\n",
    "    # In cm\n",
    "    return height*6.17/4000/4.3*100*10\n",
    "\n",
    "from numpy.core.defchararray import array, mod\n",
    "from numpy.core.numeric import _moveaxis_dispatcher\n",
    "from skimage import io\n",
    "import os\n",
    "import numpy as np\n",
    "import pandas as pd\n",
    "import imagesize\n",
    "from tqdm import tqdm\n",
    "from mrs_utils.eval_utils import *\n",
    "from skimage.transform import resize\n",
    "from shutil import copyfile\n",
    "from glob import glob \n",
    "\n",
    "def count_panels(file):\n",
    "    obj_scorer = ObjectScorer(min_region=5, min_th=0.5, dilation_size=1, link_r=0, eps=0)\n",
    "    def get_num_solar_panels(lbl_name, obj_scorer):\n",
    "        lbl = io.imread(lbl_name)\n",
    "        if len(np.shape(lbl)) == 3:\n",
    "            lbl = lbl[:, :, 0]\n",
    "        reg_props = obj_scorer.get_object_groups(lbl)\n",
    "        del lbl\n",
    "        #print('This image has {} solar panels'.format(len(reg_props)))\n",
    "        return [ a.area for a in reg_props]\n",
    "    return len(get_num_solar_panels(file, obj_scorer))\n",
    "\n",
    "hm = {}\n",
    "# for part in [part1, part2]:\n",
    "# for part in ['/scratch/sr365/Packaging_catalyst_raw_data/data_raw/part2/moving_imgs/labelled']:\n",
    "    # for folder in os.listdir(part):\n",
    "        # cur_folder = os.path.join(part, folder)\n",
    "cur_folder = '/scratch/sr365/Packaging_catalyst_raw_data/data_raw/part2/moving_imgs/labelled/labels'\n",
    "# if not os.path.isdir(cur_folder):\n",
    "#     continue\n",
    "for file in os.listdir(cur_folder):\n",
    "    # Get the current file\n",
    "    cur_file = os.path.join(cur_folder, file)\n",
    "    # From the file name, get the height\n",
    "    if '.png' in file:\n",
    "    # if '.JPG' in file or '.jpg' in file:\n",
    "    # if '.MP4' in file or '.mp4' in file:\n",
    "        height = get_height(file)\n",
    "        if height < 5:\n",
    "            continue\n",
    "        PV_count = count_panels(cur_file)\n",
    "        # PV_count = 1\n",
    "        if height in hm:\n",
    "            hm[height] += PV_count\n",
    "        else:\n",
    "            hm[height] = PV_count\n",
    "\n",
    "print(hm)\n",
    "print(sum(hm.values()))\n",
    "    "
   ]
  },
  {
   "cell_type": "code",
   "execution_count": 15,
   "metadata": {},
   "outputs": [
    {
     "name": "stdout",
     "output_type": "stream",
     "text": [
      "5 68\n",
      "6 93\n",
      "7 62\n",
      "8 81\n",
      "9 74\n",
      "10 67\n",
      "11 105\n",
      "12 65\n"
     ]
    }
   ],
   "source": [
    "for key in sorted(hm.keys()):\n",
    "    #print(key, calculate_resolution(key))\n",
    "    print(key, hm[key])"
   ]
  },
  {
   "cell_type": "code",
   "execution_count": null,
   "metadata": {},
   "outputs": [],
   "source": [
    "\n",
    "    ################################################\n",
    "    # Counting individual villages solar panel num #\n",
    "    ################################################\n",
    "    # Read in the ground truth labels\n",
    "    # for folder in os.listdir(mother_dir):\n",
    "    #     cur_folder = os.path.join(mother_dir, folder)\n",
    "    #     # Go into all subfolders\n",
    "    #     if not os.path.isdir(cur_folder):\n",
    "    #         continue\n",
    "    #     for phase_folder in os.listdir(cur_folder):\n",
    "    #         cur_phase = os.path.join(cur_folder, phase_folder)\n",
    "    #         if not os.path.isdir(cur_phase):\n",
    "    #             continue\n",
    "    #         PV_count = 0\n",
    "    #         for files in os.listdir(cur_phase):\n",
    "    #             if not files.endswith('.csv'):\n",
    "    #                 continue\n",
    "    #             data = pd.read_csv(os.path.join(cur_phase, files))\n",
    "    #             data = data['Object'].values\n",
    "    #             if len(data) > 0:\n",
    "    #                 PV_count += data[-1]\n",
    "    #         #     if not files.endswith('.png'):\n",
    "    #         #         continue\n",
    "    #         #     cur_file = os.path.join(cur_phase, files)\n",
    "    #         #     # This is a lbl file\n",
    "    #         #     num_panels = get_num_solar_panels(cur_file, obj_scorer)\n",
    "    #         #     PV_count += num_panels\n",
    "    #         print('Folder {} has {} solar panels'.format(cur_phase, PV_count))\n",
    "\n",
    "    ##########################################################\n",
    "    # Counting the whole annotation folder in aggregate form #\n",
    "    ##########################################################\n",
    "    size_list = []\n",
    "    size_warn_list = []\n",
    "    for file in tqdm(os.listdir(mother_dir)):\n",
    "        # Skip if not \n",
    "        if not file.endswith('.png'):\n",
    "            continue\n",
    "        current_panel_list = get_num_solar_panels(os.path.join(mother_dir, file), obj_scorer)\n",
    "        size_list.extend(current_panel_list)\n",
    "        # Check for oversized solar panels and make sure they are correct\n",
    "        if len(current_panel_list) > 0 and np.sum(np.array(current_panel_list) > size_warning) > 0:\n",
    "            size_warn_list.append(file)\n",
    "            print('Check!!! There is panel larger than {} pixels in : {}'.format(size_warning, file))\n",
    "        print('finished counting {}, currently there are {} solar panels'.format(file, len(size_list)))\n",
    "    print(size_list)\n",
    "    np.savetxt('/home/sr365/Gaia/Rwanda_RTI/test_patches_panel_size_count.txt', size_list)\n",
    "\n",
    "    print('printing the oversized solar panel files')\n",
    "    for file_warn in size_warn_list:\n",
    "        print(file_warn)"
   ]
  }
 ],
 "metadata": {
  "interpreter": {
   "hash": "590c26b7f2937bfcecb0a5796d3a0066be0ce7e9830b13c53de43dd49be9b17a"
  },
  "kernelspec": {
   "display_name": "Python 3.7.3 64-bit ('base': conda)",
   "language": "python",
   "name": "python3"
  },
  "language_info": {
   "codemirror_mode": {
    "name": "ipython",
    "version": 3
   },
   "file_extension": ".py",
   "mimetype": "text/x-python",
   "name": "python",
   "nbconvert_exporter": "python",
   "pygments_lexer": "ipython3",
   "version": "3.6.6"
  },
  "orig_nbformat": 4
 },
 "nbformat": 4,
 "nbformat_minor": 2
}
