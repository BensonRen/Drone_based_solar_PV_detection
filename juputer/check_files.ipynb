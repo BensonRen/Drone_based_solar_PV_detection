{
 "metadata": {
  "language_info": {
   "codemirror_mode": {
    "name": "ipython",
    "version": 3
   },
   "file_extension": ".py",
   "mimetype": "text/x-python",
   "name": "python",
   "nbconvert_exporter": "python",
   "pygments_lexer": "ipython3",
   "version": "3.6.6"
  },
  "orig_nbformat": 2,
  "kernelspec": {
   "name": "python366jvsc74a57bd046fb56778051a31a357734d34bff51ce894a75a92d527fd7661abbb023d1a439",
   "display_name": "Python 3.6.6 64-bit ('pt120': conda)"
  },
  "metadata": {
   "interpreter": {
    "hash": "46fb56778051a31a357734d34bff51ce894a75a92d527fd7661abbb023d1a439"
   }
  }
 },
 "nbformat": 4,
 "nbformat_minor": 2,
 "cells": [
  {
   "source": [
    "## Check the files for duplicate or missing labels"
   ],
   "cell_type": "markdown",
   "metadata": {}
  },
  {
   "cell_type": "code",
   "execution_count": 2,
   "metadata": {},
   "outputs": [],
   "source": [
    "import numpy as np\n",
    "import os\n",
    "import pandas as pd\n"
   ]
  },
  {
   "cell_type": "code",
   "execution_count": 4,
   "metadata": {},
   "outputs": [],
   "source": [
    "folder_dir = '/home/sr365/Gaia/labels'\n",
    "img_folder = '/home/sr365/Gaia/rti_rwanda_cut_tiles_ps_8000'\n",
    "for folder in os.listdir(folder_dir):\n",
    "    cur_folder = os.path.join(folder_dir)\n",
    "    if not os.path.isdir(folder):\n",
    "        continue\n",
    "    for subfolder in os.listdir(cur_folder):\n",
    "        cur_subfolder = os.path.join(cur_folder, subfolder)\n",
    "        if not os.path.isdir(folder):\n",
    "            continue\n",
    "        for file in os.listdir(cur_subfolder):\n",
    "            if '.png' not in file:\n",
    "                continue\n",
    "            # Check for the same name in another folder\n",
    "            new_name = os.path.join(img_folder, folder + '_' + subfolder, file)\n",
    "            if not os.path.exists(new_name):\n",
    "                print('Thiere is only label but not image!! {}'.format(file))\n",
    "            # # Check for .png\n",
    "            # if '.png' in file:\n",
    "            #     # Check whether the image is there\n",
    "            #     if not os.path.exists(os.path.join(folder_dir, file.replace('.png', '.JPG'))):\n",
    "            #         print('Thiere is only label but not image!! {}'.format(file))\n",
    "            # elif '.JPG' in file:\n",
    "            #     # Check whether the label is there\n",
    "            #     if not os.path.exists(os.path.join(folder_dir, file.replace('.JPG', '.png'))):\n",
    "            #         print('Thiere is only image but not label!! {}'.format(file))\n",
    "\n",
    "        print('Finished, this is alright!')"

   ]
  },
  {
   "cell_type": "code",
   "execution_count": null,
   "metadata": {},
   "outputs": [],

   "source": [
    "lbl_folder = 'rti_rwanda_crop_type_raw_Cynmpirita_Processed/Phase2'\n",
    "img_folder = 'rti_rwanda_crop_type_raw_Cyampirita_Processed_Phase1'\n"
   ]
  }
 ]
}