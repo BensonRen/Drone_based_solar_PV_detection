{
 "metadata": {
  "language_info": {
   "codemirror_mode": {
    "name": "ipython",
    "version": 3
   },
   "file_extension": ".py",
   "mimetype": "text/x-python",
   "name": "python",
   "nbconvert_exporter": "python",
   "pygments_lexer": "ipython3",
   "version": "3.6.6"
  },
  "orig_nbformat": 2,
  "kernelspec": {
   "name": "python366jvsc74a57bd046fb56778051a31a357734d34bff51ce894a75a92d527fd7661abbb023d1a439",
   "display_name": "Python 3.6.6 64-bit ('pt120': conda)"
  },
  "metadata": {
   "interpreter": {
    "hash": "46fb56778051a31a357734d34bff51ce894a75a92d527fd7661abbb023d1a439"
   }
  }
 },
 "nbformat": 4,
 "nbformat_minor": 2,
 "cells": [
  {
   "source": [
    "## Check the files for duplicate or missing labels"
   ],
   "cell_type": "markdown",
   "metadata": {}
  },
  {
   "cell_type": "code",
   "execution_count": 2,
   "metadata": {},
   "outputs": [],
   "source": [
    "import numpy as np\n",
    "import os\n",
    "import pandas as pd\n"
   ]
  },
  {
   "cell_type": "code",
   "execution_count": 4,
   "metadata": {},
   "outputs": [],
   "source": [
    "folder_dir = '/scratch/sr365/Catalyst_data/d1'\n",
    "for file in os.listdir(folder_dir):\n",
    "    # Check for .png\n",
    "    if '.png' in file:\n",
    "        # Check whether the image is there\n",
    "        if not os.path.exists(os.path.join(folder_dir, file.replace('.png', '.JPG'))):\n",
    "            print('Thiere is only label but not image!! {}'.format(file))\n",
    "    elif '.JPG' in file:\n",
    "        # Check whether the label is there\n",
    "        if not os.path.exists(os.path.join(folder_dir, file.replace('.JPG', '.png'))):\n",
    "            print('Thiere is only image but not label!! {}'.format(file))\n",
    "\n",
    "print('Finished, this is alright!')"
   ]
  },
  {
   "cell_type": "code",
   "execution_count": null,
   "metadata": {},
   "outputs": [],
   "source": []
  }
 ]
}